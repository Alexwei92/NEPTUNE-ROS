{
 "cells": [
  {
   "cell_type": "markdown",
   "metadata": {},
   "source": [
    "### Load Package"
   ]
  },
  {
   "cell_type": "code",
   "execution_count": 1,
   "metadata": {},
   "outputs": [
    {
     "name": "stderr",
     "output_type": "stream",
     "text": [
      "Failed to load Python extension for LZ4 support. LZ4 compression will not be available.\n"
     ]
    }
   ],
   "source": [
    "import os\n",
    "import numpy as np\n",
    "import matplotlib.pyplot as plt\n",
    "import time\n",
    "\n",
    "import rosbag\n",
    "import rosbag_utils\n",
    "\n",
    "%matplotlib inline"
   ]
  },
  {
   "cell_type": "markdown",
   "metadata": {},
   "source": [
    "### Load bag file"
   ]
  },
  {
   "cell_type": "code",
   "execution_count": 2,
   "metadata": {},
   "outputs": [
    {
     "name": "stdout",
     "output_type": "stream",
     "text": [
      "Available topics: \n",
      "------------------------------\n",
      "'/mavros/altitude'   (msg_type=mavros_msgs/Altitude, frequency=6.45Hz)\n",
      "'/mavros/distance_sensor/terange_60m_pub'   (msg_type=sensor_msgs/Range, frequency=6.45Hz)\n",
      "'/mavros/global_position/compass_hdg'   (msg_type=std_msgs/Float64, frequency=31.95Hz)\n",
      "'/mavros/global_position/global'   (msg_type=sensor_msgs/NavSatFix, frequency=32.02Hz)\n",
      "'/mavros/global_position/local'   (msg_type=nav_msgs/Odometry, frequency=22.75Hz)\n",
      "'/mavros/global_position/rel_alt'   (msg_type=std_msgs/Float64, frequency=31.95Hz)\n",
      "'/mavros/gpsstatus/gps1/raw'   (msg_type=mavros_msgs/GPSRAW, frequency=4.95Hz)\n",
      "'/mavros/home_position/home'   (msg_type=mavros_msgs/HomePosition, frequency=0.32Hz)\n",
      "'/mavros/local_position/odom'   (msg_type=nav_msgs/Odometry, frequency=20.53Hz)\n",
      "'/mavros/local_position/pose'   (msg_type=geometry_msgs/PoseStamped, frequency=20.04Hz)\n",
      "'/mavros/local_position/velocity_body'   (msg_type=geometry_msgs/TwistStamped, frequency=20.04Hz)\n",
      "'/mavros/local_position/velocity_local'   (msg_type=geometry_msgs/TwistStamped, frequency=20.03Hz)\n",
      "'/mavros/rc/in'   (msg_type=mavros_msgs/RCIn, frequency=12.83Hz)\n",
      "'/mavros/rc/out'   (msg_type=mavros_msgs/RCOut, frequency=5.95Hz)\n",
      "'/mavros/setpoint_raw/target_attitude'   (msg_type=mavros_msgs/AttitudeTarget, frequency=6.42Hz)\n",
      "'/mavros/setpoint_raw/target_local'   (msg_type=mavros_msgs/PositionTarget, frequency=6.33Hz)\n",
      "'/mavros/state'   (msg_type=mavros_msgs/State, frequency=1.00Hz)\n",
      "'/mavros/target_actuator_control'   (msg_type=mavros_msgs/ActuatorControl, frequency=6.33Hz)\n",
      "'/mavros/vfr_hud'   (msg_type=mavros_msgs/VFR_HUD, frequency=6.37Hz)\n",
      "------------------------------\n"
     ]
    }
   ],
   "source": [
    "# rosbag file path\n",
    "disk_location = \"/media/lab/NEPTUNE2/xavier_backup\"\n",
    "file_path = \"gps_2022-09-23-14-26-30.bag\"\n",
    "bag_path = os.path.join(disk_location, file_path)\n",
    "\n",
    "# read bag file\n",
    "bag = rosbag.Bag(bag_path)\n",
    "\n",
    "# print available topics in the bag file\n",
    "rosbag_utils.print_bag_topics(bag)"
   ]
  },
  {
   "cell_type": "markdown",
   "metadata": {},
   "source": [
    "### Local Pose"
   ]
  },
  {
   "cell_type": "code",
   "execution_count": null,
   "metadata": {},
   "outputs": [],
   "source": [
    "# read topics\n",
    "local_pose_data = rosbag_utils.get_topic_from_bag(bag, \"/mavros/local_position/pose\")\n"
   ]
  }
 ],
 "metadata": {
  "kernelspec": {
   "display_name": "Python 3.7.11 ('neptune')",
   "language": "python",
   "name": "python3"
  },
  "language_info": {
   "codemirror_mode": {
    "name": "ipython",
    "version": 3
   },
   "file_extension": ".py",
   "mimetype": "text/x-python",
   "name": "python",
   "nbconvert_exporter": "python",
   "pygments_lexer": "ipython3",
   "version": "3.7.11"
  },
  "orig_nbformat": 4,
  "vscode": {
   "interpreter": {
    "hash": "d68c124144923a15b81651f4fdf326f488273f1e8c3b3cf10310568e4f9bd4af"
   }
  }
 },
 "nbformat": 4,
 "nbformat_minor": 2
}
