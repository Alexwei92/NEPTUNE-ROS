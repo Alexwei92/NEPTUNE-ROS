{
 "cells": [
  {
   "cell_type": "markdown",
   "metadata": {},
   "source": [
    "### Import Packages"
   ]
  },
  {
   "cell_type": "code",
   "execution_count": 1,
   "metadata": {},
   "outputs": [],
   "source": [
    "import os, sys\n",
    "import numpy as np\n",
    "import pandas\n",
    "import pickle\n",
    "import matplotlib.pyplot as plt\n",
    "import matplotlib.patches as patches\n",
    "import cv2\n",
    "from cv_bridge import CvBridge\n",
    "\n",
    "import rosbag\n",
    "from utils import rosbag_utils\n",
    "from utils.navigation_utils import *\n"
   ]
  },
  {
   "cell_type": "markdown",
   "metadata": {},
   "source": [
    "### Load Data"
   ]
  },
  {
   "cell_type": "code",
   "execution_count": 2,
   "metadata": {},
   "outputs": [
    {
     "name": "stdout",
     "output_type": "stream",
     "text": [
      "Available topics: \n",
      "------------------------------\n",
      "'/d435i/aligned_depth_to_color/camera_info'   (msg_type=sensor_msgs/CameraInfo, frequency=5.99Hz)\n",
      "'/d435i/aligned_depth_to_color/image_raw/compressed'   (msg_type=sensor_msgs/CompressedImage, frequency=5.99Hz)\n",
      "'/d435i/color/camera_info'   (msg_type=sensor_msgs/CameraInfo, frequency=5.99Hz)\n",
      "'/d435i/color/image_raw/compressed'   (msg_type=sensor_msgs/CompressedImage, frequency=5.99Hz)\n",
      "'/mavros/altitude'   (msg_type=mavros_msgs/Altitude, frequency=10.07Hz)\n",
      "'/mavros/global_position/compass_hdg'   (msg_type=std_msgs/Float64, frequency=10.09Hz)\n",
      "'/mavros/global_position/global'   (msg_type=sensor_msgs/NavSatFix, frequency=10.09Hz)\n",
      "'/mavros/global_position/local'   (msg_type=nav_msgs/Odometry, frequency=10.09Hz)\n",
      "'/mavros/global_position/raw/fix'   (msg_type=sensor_msgs/NavSatFix, frequency=7.95Hz)\n",
      "'/mavros/global_position/raw/gps_vel'   (msg_type=geometry_msgs/TwistStamped, frequency=7.95Hz)\n",
      "'/mavros/global_position/raw/satellites'   (msg_type=std_msgs/UInt32, frequency=7.95Hz)\n",
      "'/mavros/global_position/rel_alt'   (msg_type=std_msgs/Float64, frequency=10.09Hz)\n",
      "'/mavros/gpsstatus/gps1/raw'   (msg_type=mavros_msgs/GPSRAW, frequency=7.95Hz)\n",
      "'/mavros/home_position/home'   (msg_type=mavros_msgs/HomePosition, frequency=0.50Hz)\n",
      "'/piksi/debug/receiver_state'   (msg_type=piksi_rtk_msgs/ReceiverState_V2_4_1, frequency=11.15Hz)\n",
      "'/piksi/navsatfix_best_fix'   (msg_type=sensor_msgs/NavSatFix, frequency=10.25Hz)\n",
      "------------------------------\n"
     ]
    }
   ],
   "source": [
    "bag_file = \"/media/peng/Samsung/2022-10-14/camera_gps_2022-10-14-09-53-49.bag\"\n",
    "# bag_file = \"/media/peng/Samsung/2022-10-14/camera_gps_2022-10-14-09-57-49.bag\"\n",
    "# bag_file = \"/media/peng/Samsung/2022-10-14/camera_gps_2022-10-14-10-01-08.bag\"\n",
    "\n",
    "# bag_file = \"/media/peng/Samsung/2022-10-17/camera_gps_2022-10-17-13-03-08.bag\"\n",
    "\n",
    "bag = rosbag.Bag(bag_file, \"r\")\n",
    "\n",
    "rosbag_utils.print_bag_topics(bag)"
   ]
  },
  {
   "cell_type": "markdown",
   "metadata": {},
   "source": [
    "### Read ros topics"
   ]
  },
  {
   "cell_type": "code",
   "execution_count": 3,
   "metadata": {},
   "outputs": [
    {
     "name": "stdout",
     "output_type": "stream",
     "text": [
      "topic: /mavros/global_position/global\n",
      "fields: ['altitude', 'header', 'latitude', 'longitude', 'position_covariance', 'position_covariance_type', 'status']\n",
      "messages: 1299\n",
      "frequency: 10.0Hz\n",
      "------------------------------\n",
      "topic: /mavros/global_position/compass_hdg\n",
      "fields: ['data']\n",
      "messages: 1299\n",
      "frequency: 10.0Hz\n",
      "------------------------------\n",
      "topic: /mavros/gpsstatus/gps1/raw\n",
      "fields: ['alt', 'alt_ellipsoid', 'cog', 'dgps_age', 'dgps_numch', 'eph', 'epv', 'fix_type', 'h_acc', 'hdg_acc', 'header', 'lat', 'lon', 'satellites_visible', 'v_acc', 'vel', 'vel_acc', 'yaw']\n",
      "messages: 1039\n",
      "frequency: 8.0Hz\n",
      "------------------------------\n",
      "topic: /piksi/navsatfix_best_fix\n",
      "fields: ['altitude', 'header', 'latitude', 'longitude', 'position_covariance', 'position_covariance_type', 'status']\n",
      "messages: 1299\n",
      "frequency: 10.0Hz\n",
      "------------------------------\n",
      "topic: /piksi/debug/receiver_state\n",
      "fields: ['cn0', 'cn0_bds', 'cn0_gal', 'cn0_glonass', 'cn0_gps', 'cn0_sbas', 'external_antenna_present', 'fix_mode', 'header', 'io_error', 'num_bds_sat', 'num_gal_sat', 'num_glonass_sat', 'num_gps_sat', 'num_sat', 'num_sbas_sat', 'rtk_mode_fix', 'sat', 'swift_nap_error', 'system_error']\n",
      "messages: 1689\n",
      "frequency: 13.01Hz\n",
      "------------------------------\n"
     ]
    }
   ],
   "source": [
    "# read topics\n",
    "global_position = rosbag_utils.get_topic_from_bag(bag, \"/mavros/global_position/global\")\n",
    "compass_hdg = rosbag_utils.get_topic_from_bag(bag, \"/mavros/global_position/compass_hdg\")\n",
    "gps_status = rosbag_utils.get_topic_from_bag(bag, \"/mavros/gpsstatus/gps1/raw\")\n",
    "\n",
    "piksi_global_position = rosbag_utils.get_topic_from_bag(bag, \"/piksi/navsatfix_best_fix\")\n",
    "piksi_receiver_state = rosbag_utils.get_topic_from_bag(bag, \"/piksi/debug/receiver_state\")\n"
   ]
  },
  {
   "cell_type": "markdown",
   "metadata": {},
   "source": [
    "### Load Map"
   ]
  },
  {
   "cell_type": "code",
   "execution_count": 4,
   "metadata": {},
   "outputs": [],
   "source": [
    "def configure_map_plot(axis, field_bound):\n",
    "    axis.set_xlabel('x [m]')\n",
    "    axis.set_ylabel('y [m]')\n",
    "    axis.set_aspect(1)\n",
    "    axis.set_xlim(field_bound['local'][0])\n",
    "    axis.set_ylim(field_bound['local'][1])\n",
    "    axis.ticklabel_format(useOffset=False)\n",
    "\n",
    "def draw_vertice(axis, vertice, s=10, color='b'):\n",
    "    axis.scatter(vertice[:,0], vertice[:,1], s=s, color=color)\n",
    "\n",
    "def draw_line(axis, line, color='k', linestyle='-', linewidth=1.0):\n",
    "    axis.plot(line[:,0], line[:,1], color=color, linestyle=linestyle, linewidth=linewidth)\n",
    "\n",
    "def draw_polygon(axis, vertice, color='b', linestyle='-', linewidth=3.0, alpha=0.1):\n",
    "    axis.add_patch(patches.Polygon(vertice, color=color, linestyle=linestyle, linewidth=linewidth, alpha=alpha))\n",
    "\n",
    "def draw_single_data(axis, data, vertice=True, treelines=True, centerline=True, polygon=False):\n",
    "    # vertice\n",
    "    if vertice:\n",
    "        draw_vertice(axis, data['vertice'])\n",
    "    # treeline\n",
    "    if treelines:\n",
    "        draw_line(axis, data['treelines_actual'][0], color='g')\n",
    "        draw_line(axis, data['treelines_actual'][1], color='g')\n",
    "    # centerline\n",
    "    if centerline:\n",
    "        draw_line(axis, data['centerline'], color='k', linestyle='--')\n",
    "    # polygon\n",
    "    if polygon:\n",
    "        draw_polygon(axis, data['vertice_actual'])\n",
    "\n",
    "#### \n",
    "data_path = \"./ground_truth/plant_field.pkl\"\n",
    "\n",
    "# Configure map\n",
    "with open(data_path, 'rb') as file:\n",
    "    data = pickle.load(file)\n",
    "\n",
    "field_bound = {\n",
    "    'latlon': data['field_bound_latlon'],\n",
    "    'local': data['field_bound_local'],\n",
    "}\n",
    "\n",
    "utm_T_local = data['utm_T_local']\n",
    "\n",
    "# # plot\n",
    "# fig, axes = plt.subplots(1,1,figsize=(10, 8))\n",
    "# configure_map_plot(axes, field_bound)\n",
    "\n",
    "# for i in range(24):\n",
    "#     draw_single_data(axes, data['row_data'][i])\n",
    "\n",
    "# fig.tight_layout()"
   ]
  },
  {
   "cell_type": "markdown",
   "metadata": {},
   "source": [
    "### Plot drone pose on map"
   ]
  },
  {
   "cell_type": "code",
   "execution_count": 5,
   "metadata": {},
   "outputs": [
    {
     "data": {
      "text/plain": [
       "<matplotlib.legend.Legend at 0x7f808f5c0910>"
      ]
     },
     "execution_count": 5,
     "metadata": {},
     "output_type": "execute_result"
    },
    {
     "data": {
      "image/png": "[encoded data removed]",
      "text/plain": [
       "<Figure size 720x576 with 1 Axes>"
      ]
     },
     "metadata": {
      "needs_background": "light"
     },
     "output_type": "display_data"
    }
   ],
   "source": [
    "# plot\n",
    "fig, axes = plt.subplots(1,1,figsize=(10, 8))\n",
    "configure_map_plot(axes, field_bound)\n",
    "\n",
    "for i in range(24):\n",
    "    draw_single_data(axes, data['row_data'][i])\n",
    "\n",
    "fig.tight_layout()\n",
    "\n",
    "# local position\n",
    "local_pos_px4 = []\n",
    "for i in range(len(global_position)):\n",
    "    pos_xy = get_local_xy_from_latlon(\n",
    "        global_position['latitude'].iloc[i],\n",
    "        global_position['longitude'].iloc[i],\n",
    "        utm_T_local,\n",
    "    )\n",
    "    local_pos_px4.append(pos_xy[:2])\n",
    "local_pos_px4 = np.array(local_pos_px4)\n",
    "\n",
    "local_pos_piksi = []\n",
    "for i in range(len(piksi_global_position)):\n",
    "    pos_xy = get_local_xy_from_latlon(\n",
    "        piksi_global_position['latitude'].iloc[i],\n",
    "        piksi_global_position['longitude'].iloc[i],\n",
    "        utm_T_local,\n",
    "    )\n",
    "    local_pos_piksi.append(pos_xy[:2])\n",
    "local_pos_piksi = np.array(local_pos_piksi)\n",
    "\n",
    "axes.plot(local_pos_px4[:,0], local_pos_px4[:,1], color='C0', linewidth=1.0, label='px4')\n",
    "axes.plot(local_pos_piksi[:,0], local_pos_piksi[:,1], color='C1', linewidth=1.0, label='piksi')\n",
    "axes.set_ylim([30, 50])\n",
    "# axes.set_ylim([60, 80])\n",
    "axes.legend()\n"
   ]
  },
  {
   "cell_type": "markdown",
   "metadata": {},
   "source": [
    "### Process Data"
   ]
  },
  {
   "cell_type": "code",
   "execution_count": 6,
   "metadata": {},
   "outputs": [
    {
     "name": "stdout",
     "output_type": "stream",
     "text": [
      "topic: /d435i/color/image_raw/compressed\n",
      "fields: ['data', 'format', 'header']\n",
      "messages: 778\n",
      "frequency: 5.99Hz\n",
      "------------------------------\n",
      "topic: /d435i/aligned_depth_to_color/image_raw/compressed\n",
      "fields: ['data', 'format', 'header']\n",
      "messages: 778\n",
      "frequency: 5.99Hz\n",
      "------------------------------\n",
      "topic: /mavros/global_position/global\n",
      "fields: ['altitude', 'header', 'latitude', 'longitude', 'position_covariance', 'position_covariance_type', 'status']\n",
      "messages: 1299\n",
      "frequency: 10.0Hz\n",
      "------------------------------\n",
      "topic: /mavros/global_position/compass_hdg\n",
      "fields: ['data']\n",
      "messages: 1299\n",
      "frequency: 10.0Hz\n",
      "------------------------------\n",
      "topic: /mavros/gpsstatus/gps1/raw\n",
      "fields: ['alt', 'alt_ellipsoid', 'cog', 'dgps_age', 'dgps_numch', 'eph', 'epv', 'fix_type', 'h_acc', 'hdg_acc', 'header', 'lat', 'lon', 'satellites_visible', 'v_acc', 'vel', 'vel_acc', 'yaw']\n",
      "messages: 1039\n",
      "frequency: 8.0Hz\n",
      "------------------------------\n",
      "topic: /piksi/navsatfix_best_fix\n",
      "fields: ['altitude', 'header', 'latitude', 'longitude', 'position_covariance', 'position_covariance_type', 'status']\n",
      "messages: 1299\n",
      "frequency: 10.0Hz\n",
      "------------------------------\n",
      "topic: /piksi/debug/receiver_state\n",
      "fields: ['cn0', 'cn0_bds', 'cn0_gal', 'cn0_glonass', 'cn0_gps', 'cn0_sbas', 'external_antenna_present', 'fix_mode', 'header', 'io_error', 'num_bds_sat', 'num_gal_sat', 'num_glonass_sat', 'num_gps_sat', 'num_sat', 'num_sbas_sat', 'rtk_mode_fix', 'sat', 'swift_nap_error', 'system_error']\n",
      "messages: 1689\n",
      "frequency: 13.01Hz\n",
      "------------------------------\n",
      "Use the 0 column as the base. The synchronized frequency is 6Hz.\n"
     ]
    }
   ],
   "source": [
    "# read topics\n",
    "color_image = rosbag_utils.get_topic_from_bag(bag, \"/d435i/color/image_raw/compressed\")\n",
    "depth_image = rosbag_utils.get_topic_from_bag(bag, \"/d435i/aligned_depth_to_color/image_raw/compressed\")\n",
    "\n",
    "global_position = rosbag_utils.get_topic_from_bag(bag, \"/mavros/global_position/global\")\n",
    "compass_hdg = rosbag_utils.get_topic_from_bag(bag, \"/mavros/global_position/compass_hdg\")\n",
    "gps_status = rosbag_utils.get_topic_from_bag(bag, \"/mavros/gpsstatus/gps1/raw\")\n",
    "\n",
    "piksi_global_position = rosbag_utils.get_topic_from_bag(bag, \"/piksi/navsatfix_best_fix\")\n",
    "piksi_receiver_state = rosbag_utils.get_topic_from_bag(bag, \"/piksi/debug/receiver_state\")\n",
    "\n",
    "ros_time, sync_topics = rosbag_utils.timesync_topics([\n",
    "    color_image,\n",
    "    depth_image,\n",
    "    piksi_global_position,\n",
    "    compass_hdg\n",
    "])\n",
    "    \n",
    "color_image_sync = sync_topics[0]\n",
    "depth_image_sync = sync_topics[1]\n",
    "piksi_global_position_sync = sync_topics[2]\n",
    "compass_hdg_sync = sync_topics[3]"
   ]
  },
  {
   "cell_type": "code",
   "execution_count": 8,
   "metadata": {},
   "outputs": [
    {
     "name": "stdout",
     "output_type": "stream",
     "text": [
      "Flying in row 4\n",
      "Flying direction: 1\n"
     ]
    },
    {
     "data": {
      "image/png": "[encoded data removed]",
      "text/plain": [
       "<Figure size 432x432 with 3 Axes>"
      ]
     },
     "metadata": {
      "needs_background": "light"
     },
     "output_type": "display_data"
    }
   ],
   "source": [
    "# heading\n",
    "heading = np.radians(compass_hdg_sync['data'])\n",
    "for i in range(len(heading)):\n",
    "    heading.iloc[i] = wrap_2pi(heading.iloc[i] - np.pi/2)\n",
    "\n",
    "\n",
    "# local pos\n",
    "local_pos_x = []\n",
    "local_pos_y = []\n",
    "for i in range(len(piksi_global_position_sync)):\n",
    "    pos_xy = get_local_xy_from_latlon(\n",
    "        piksi_global_position_sync['latitude'].iloc[i],\n",
    "        piksi_global_position_sync['longitude'].iloc[i],\n",
    "        utm_T_local,\n",
    "    )\n",
    "    local_pos_x.append(pos_xy[0])\n",
    "    local_pos_y.append(pos_xy[1])\n",
    "\n",
    "local_pos_x = np.array(local_pos_x)\n",
    "local_pos_y = np.array(local_pos_y)\n",
    "\n",
    "results = {\n",
    "    'time': piksi_global_position_sync['ros_time'],\n",
    "    'heading': heading,\n",
    "    'local_pos_x': local_pos_x,\n",
    "    'local_pos_y': local_pos_y,\n",
    "}\n",
    "results = pandas.DataFrame(results)\n",
    "\n",
    "fig, axes = plt.subplots(3,1,sharex=True,figsize=(6,6))\n",
    "axes[0].plot(ros_time, heading)\n",
    "axes[0].set_ylabel('heading')\n",
    "axes[1].plot(ros_time, local_pos_x)\n",
    "axes[1].set_ylabel('local_pos_x')\n",
    "axes[2].plot(ros_time, local_pos_y)\n",
    "axes[2].set_ylabel('local_pos_y')\n",
    "\n",
    "## bitmask1: check whether in polygon\n",
    "# find which row\n",
    "all_index = []\n",
    "for x, y in zip(local_pos_x, local_pos_y):\n",
    "    current_pose = [x, y]\n",
    "\n",
    "    index = find_area_index(current_pose, data['row_data'])\n",
    "    if index is not None:\n",
    "        all_index.append(index)\n",
    "\n",
    "    if len(all_index) > 10:\n",
    "        break\n",
    "\n",
    "row_index = int(np.array(all_index).mean())\n",
    "print(\"Flying in row %d\" % row_index)\n",
    "\n",
    "current_polygon = Polygon([vertex for vertex in data['row_data'][row_index]['vertice_actual']])\n",
    "bitmask1 = []\n",
    "for x, y in zip(local_pos_x, local_pos_y):\n",
    "    current_pose = [x, y]\n",
    "    bitmask1.append(whether_in_polygon(current_pose, current_polygon))\n",
    "\n",
    "## bitmask2: check heading\n",
    "if local_pos_x[0] > data['row_data'][row_index]['treelines'][0][1][0]:\n",
    "    direction = -1\n",
    "    heading_range = [-3*np.pi/2, -np.pi/2]\n",
    "else:\n",
    "    direction = 1\n",
    "    heading_range = [-np.pi/2, np.pi/2]\n",
    "print(\"Flying direction: %d\" % direction)\n",
    "\n",
    "bitmask2 = []\n",
    "for i in range(len(heading)):\n",
    "    res = (heading_range[0] <= heading.iloc[i] <= heading_range[1])\n",
    "    bitmask2.append(res)\n"
   ]
  },
  {
   "cell_type": "code",
   "execution_count": null,
   "metadata": {},
   "outputs": [],
   "source": [
    "# Images\n",
    "bridge = CvBridge()\n",
    "\n",
    "# RGB\n",
    "color_image_list = []\n",
    "for i in range(len(color_image_sync)):\n",
    "    np_arr = np.frombuffer(color_image_sync['data'].iloc[i], np.uint8)\n",
    "    image_np = cv2.imdecode(np_arr, cv2.IMREAD_COLOR) # RGB\n",
    "    # image_np = cv2.cvtColor(image_np, cv2.COLOR_RGB2BGR)\n",
    "    color_image_list.append(image_np)\n",
    "\n",
    "plt.imshow(image_np)\n",
    "print(\"%d color images in total\" % len(color_image_list))\n",
    "\n",
    "# # Depth\n",
    "# depth_image_list = []\n",
    "# for i in range(len(depth_image_sync)):\n",
    "#     np_arr = np.frombuffer(depth_image_sync['data'].iloc[i], np.uint8)\n",
    "#     image_np = cv2.imdecode(np_arr, cv2.IMREAD_COLOR) # RGB\n",
    "#     print(image_np.shape)\n",
    "#     depth_image_list.append(image_np)\n",
    "\n",
    "# plt.imshow(depth_image_list[100])\n",
    "# print(\"%d depth images\" % len(color_image_list))"
   ]
  },
  {
   "cell_type": "code",
   "execution_count": null,
   "metadata": {},
   "outputs": [],
   "source": [
    "## Apply bitmasks\n",
    "filtered_results = pandas.DataFrame()\n",
    "for i in range(len(results)):\n",
    "    if bitmask1[i] and bitmask2[i]:\n",
    "        res = {}\n",
    "        res['time'] = results['time'].iloc[i]\n",
    "        res['heading'] = results['heading'].iloc[i]\n",
    "        res['local_pos_x'] = results['local_pos_x'].iloc[i]\n",
    "        res['local_pos_y'] = results['local_pos_y'].iloc[i]\n",
    "        res['index'] = i\n",
    "        filtered_results = filtered_results.append(res, ignore_index=True)\n",
    "\n",
    "# print(filtered_results)\n",
    "print(\"{:.2%} of raw data is valid.\".format(len(filtered_results) / len(results)))"
   ]
  }
 ],
 "metadata": {
  "interpreter": {
   "hash": "55d901c64505a0ab0941a9016af5b78314d70c9054fddb5f28de8663a95aceb1"
  },
  "kernelspec": {
   "display_name": "Python 3.7.13 ('py37')",
   "language": "python",
   "name": "python3"
  },
  "language_info": {
   "codemirror_mode": {
    "name": "ipython",
    "version": 3
   },
   "file_extension": ".py",
   "mimetype": "text/x-python",
   "name": "python",
   "nbconvert_exporter": "python",
   "pygments_lexer": "ipython3",
   "version": "3.7.13"
  },
  "orig_nbformat": 4
 },
 "nbformat": 4,
 "nbformat_minor": 2
}
