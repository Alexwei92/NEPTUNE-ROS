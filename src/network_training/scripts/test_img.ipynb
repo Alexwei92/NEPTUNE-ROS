{
 "cells": [
  {
   "cell_type": "code",
   "execution_count": 19,
   "metadata": {},
   "outputs": [],
   "source": [
    "import os, glob\n",
    "import numpy as np\n",
    "import cv2\n"
   ]
  },
  {
   "cell_type": "code",
   "execution_count": 25,
   "metadata": {},
   "outputs": [],
   "source": [
    "folder_path = \"/media/lab/NEPTUNE2/field_datasets/row_10/2022-10-14-10-41-06\"\n",
    "# folder_path = \"/media/lab/NEPTUNE2/field_datasets/row_12/2022-10-28-13-30-28\"\n",
    "# folder_path = \"/media/lab/NEPTUNE2/field_datasets/row_18/2022-11-15-11-16-24\"\n",
    "\n",
    "\n",
    "color_file_list = glob.glob(os.path.join(folder_path, 'color', '*.png'))\n",
    "color_file_list.sort()\n"
   ]
  },
  {
   "cell_type": "markdown",
   "metadata": {},
   "source": [
    "### Edge"
   ]
  },
  {
   "cell_type": "code",
   "execution_count": 26,
   "metadata": {},
   "outputs": [],
   "source": [
    "for color_file in color_file_list:\n",
    "    raw_img = cv2.imread(color_file, cv2.IMREAD_UNCHANGED)\n",
    "    img_canny = cv2.Canny(raw_img, 100, 150, 10)\n",
    "\n",
    "    cv2.imshow('image', img_canny)\n",
    "\n",
    "    key = cv2.waitKey(100) & 0xFF\n",
    "    if (key == 27 or key == ord('q')):\n",
    "        break\n",
    "\n",
    "cv2.destroyAllWindows()"
   ]
  }
 ],
 "metadata": {
  "kernelspec": {
   "display_name": "Python 3.7.11 ('neptune')",
   "language": "python",
   "name": "python3"
  },
  "language_info": {
   "codemirror_mode": {
    "name": "ipython",
    "version": 3
   },
   "file_extension": ".py",
   "mimetype": "text/x-python",
   "name": "python",
   "nbconvert_exporter": "python",
   "pygments_lexer": "ipython3",
   "version": "3.7.11"
  },
  "orig_nbformat": 4,
  "vscode": {
   "interpreter": {
    "hash": "d68c124144923a15b81651f4fdf326f488273f1e8c3b3cf10310568e4f9bd4af"
   }
  }
 },
 "nbformat": 4,
 "nbformat_minor": 2
}
