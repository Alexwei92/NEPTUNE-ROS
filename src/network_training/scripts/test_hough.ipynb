{
 "cells": [
  {
   "cell_type": "code",
   "execution_count": 3,
   "metadata": {},
   "outputs": [],
   "source": [
    "import os, glob\n",
    "import numpy as np\n",
    "import cv2\n",
    "import math\n"
   ]
  },
  {
   "cell_type": "code",
   "execution_count": 4,
   "metadata": {},
   "outputs": [],
   "source": [
    "folder_path = \"/media/lab/NEPTUNE2/field_datasets/row_10/2022-10-14-10-41-06\"\n",
    "# folder_path = \"/media/lab/NEPTUNE2/field_datasets/row_12/2022-10-28-13-30-28\"\n",
    "# folder_path = \"/media/lab/NEPTUNE2/field_datasets/row_18/2022-11-15-11-16-24\"\n",
    "folder_path = \"/media/lab/NEPTUNE2/field_datasets/test/2022-11-30-15-10-00\"\n",
    "\n",
    "\n",
    "\n",
    "color_file_list = glob.glob(os.path.join(folder_path, 'color', '*.png'))\n",
    "color_file_list.sort()\n"
   ]
  },
  {
   "cell_type": "markdown",
   "metadata": {},
   "source": [
    "### Edge"
   ]
  },
  {
   "cell_type": "code",
   "execution_count": 12,
   "metadata": {},
   "outputs": [],
   "source": [
    "for color_file in color_file_list:\n",
    "    img_bgr = cv2.imread(color_file, cv2.IMREAD_UNCHANGED)\n",
    "    img_gray = cv2.cvtColor(img_bgr, cv2.COLOR_BGR2GRAY)\n",
    "    img_canny = cv2.Canny(img_gray, 150, 200, 50)\n",
    "\n",
    "    img_disp = np.zeros_like(img_bgr)\n",
    "\n",
    "    # lines = cv2.HoughLines(img_canny, 1, np.pi / 180, 150, None, 0, 0)\n",
    "    # if lines is not None:\n",
    "    #     for i in range(0, len(lines)):\n",
    "    #         rho = lines[i][0][0]\n",
    "    #         theta = lines[i][0][1]\n",
    "    #         a = math.cos(theta)\n",
    "    #         b = math.sin(theta)\n",
    "    #         x0 = a * rho\n",
    "    #         y0 = b * rho\n",
    "    #         pt1 = (int(x0 + 1000*(-b)), int(y0 + 1000*(a)))\n",
    "    #         pt2 = (int(x0 - 1000*(-b)), int(y0 - 1000*(a)))\n",
    "    #         cv2.line(img_disp, pt1, pt2, (0,0,255), 3, cv2.LINE_AA)\n",
    "\n",
    "    linesP = cv2.HoughLinesP(img_canny, 1, np.pi / 60, 50, None, 20, 5)\n",
    "    if linesP is not None:\n",
    "        for i in range(0, len(linesP)):\n",
    "            l = linesP[i][0]\n",
    "            cv2.line(img_disp, (l[0], l[1]), (l[2], l[3]), (0,0,255), 3, cv2.LINE_AA)\n",
    "\n",
    "    img_combine = np.concatenate((\n",
    "        img_bgr,\n",
    "        cv2.cvtColor(img_canny, cv2.COLOR_GRAY2BGR),\n",
    "        img_disp\n",
    "    ), axis=1)\n",
    "\n",
    "\n",
    "    # cv2.imshow('bgr', img_bgr)\n",
    "    # cv2.imshow('edge', img_canny)\n",
    "    # cv2.imshow('hough', img_disp)\n",
    "    cv2.imshow('combine', img_combine)\n",
    "\n",
    "    key = cv2.waitKey(100) & 0xFF\n",
    "    if (key == 27 or key == ord('q')):\n",
    "        break\n",
    "\n",
    "cv2.destroyAllWindows()"
   ]
  }
 ],
 "metadata": {
  "kernelspec": {
   "display_name": "Python 3.7.11 ('neptune')",
   "language": "python",
   "name": "python3"
  },
  "language_info": {
   "codemirror_mode": {
    "name": "ipython",
    "version": 3
   },
   "file_extension": ".py",
   "mimetype": "text/x-python",
   "name": "python",
   "nbconvert_exporter": "python",
   "pygments_lexer": "ipython3",
   "version": "3.7.11"
  },
  "orig_nbformat": 4,
  "vscode": {
   "interpreter": {
    "hash": "d68c124144923a15b81651f4fdf326f488273f1e8c3b3cf10310568e4f9bd4af"
   }
  }
 },
 "nbformat": 4,
 "nbformat_minor": 2
}
